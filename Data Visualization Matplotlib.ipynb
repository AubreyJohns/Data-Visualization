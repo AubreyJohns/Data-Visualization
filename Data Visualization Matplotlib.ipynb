{
 "cells": [
  {
   "cell_type": "markdown",
   "metadata": {},
   "source": [
    "Data Visualization"
   ]
  },
  {
   "cell_type": "code",
   "execution_count": 1,
   "metadata": {},
   "outputs": [
    {
     "data": {
      "text/html": [
       "<div>\n",
       "<style scoped>\n",
       "    .dataframe tbody tr th:only-of-type {\n",
       "        vertical-align: middle;\n",
       "    }\n",
       "\n",
       "    .dataframe tbody tr th {\n",
       "        vertical-align: top;\n",
       "    }\n",
       "\n",
       "    .dataframe thead th {\n",
       "        text-align: right;\n",
       "    }\n",
       "</style>\n",
       "<table border=\"1\" class=\"dataframe\">\n",
       "  <thead>\n",
       "    <tr style=\"text-align: right;\">\n",
       "      <th></th>\n",
       "      <th>Date</th>\n",
       "      <th>Currency</th>\n",
       "      <th>Mean</th>\n",
       "      <th>Buy</th>\n",
       "      <th>Sell</th>\n",
       "    </tr>\n",
       "  </thead>\n",
       "  <tbody>\n",
       "    <tr>\n",
       "      <th>1</th>\n",
       "      <td>02/01/2015</td>\n",
       "      <td>STG POUND</td>\n",
       "      <td>140.9997</td>\n",
       "      <td>140.8611</td>\n",
       "      <td>141.1383</td>\n",
       "    </tr>\n",
       "    <tr>\n",
       "      <th>22</th>\n",
       "      <td>05/01/2015</td>\n",
       "      <td>STG POUND</td>\n",
       "      <td>138.7694</td>\n",
       "      <td>138.6406</td>\n",
       "      <td>138.8983</td>\n",
       "    </tr>\n",
       "    <tr>\n",
       "      <th>43</th>\n",
       "      <td>06/01/2015</td>\n",
       "      <td>STG POUND</td>\n",
       "      <td>138.6028</td>\n",
       "      <td>138.4628</td>\n",
       "      <td>138.7428</td>\n",
       "    </tr>\n",
       "    <tr>\n",
       "      <th>64</th>\n",
       "      <td>07/01/2015</td>\n",
       "      <td>STG POUND</td>\n",
       "      <td>137.6375</td>\n",
       "      <td>137.4972</td>\n",
       "      <td>137.7778</td>\n",
       "    </tr>\n",
       "    <tr>\n",
       "      <th>85</th>\n",
       "      <td>08/01/2015</td>\n",
       "      <td>STG POUND</td>\n",
       "      <td>137.4622</td>\n",
       "      <td>137.3283</td>\n",
       "      <td>137.5961</td>\n",
       "    </tr>\n",
       "  </tbody>\n",
       "</table>\n",
       "</div>"
      ],
      "text/plain": [
       "          Date   Currency      Mean       Buy      Sell\n",
       "1   02/01/2015  STG POUND  140.9997  140.8611  141.1383\n",
       "22  05/01/2015  STG POUND  138.7694  138.6406  138.8983\n",
       "43  06/01/2015  STG POUND  138.6028  138.4628  138.7428\n",
       "64  07/01/2015  STG POUND  137.6375  137.4972  137.7778\n",
       "85  08/01/2015  STG POUND  137.4622  137.3283  137.5961"
      ]
     },
     "execution_count": 1,
     "metadata": {},
     "output_type": "execute_result"
    }
   ],
   "source": [
    "# import csv\n",
    "import pandas as pd\n",
    "import numpy as np\n",
    "import matplotlib.pyplot as plt \n",
    "import seaborn as sns\n",
    "cbk_df = pd.read_csv('Key-CBK-Indicative-Exchange-Rates-2015.csv')\n",
    "gbp = cbk_df[cbk_df['Currency']=='STG POUND']\n",
    "gbp.head()"
   ]
  },
  {
   "cell_type": "code",
   "execution_count": 2,
   "metadata": {},
   "outputs": [
    {
     "data": {
      "text/html": [
       "<div>\n",
       "<style scoped>\n",
       "    .dataframe tbody tr th:only-of-type {\n",
       "        vertical-align: middle;\n",
       "    }\n",
       "\n",
       "    .dataframe tbody tr th {\n",
       "        vertical-align: top;\n",
       "    }\n",
       "\n",
       "    .dataframe thead th {\n",
       "        text-align: right;\n",
       "    }\n",
       "</style>\n",
       "<table border=\"1\" class=\"dataframe\">\n",
       "  <thead>\n",
       "    <tr style=\"text-align: right;\">\n",
       "      <th></th>\n",
       "      <th>Date</th>\n",
       "      <th>Currency</th>\n",
       "      <th>Mean</th>\n",
       "      <th>Buy</th>\n",
       "      <th>Sell</th>\n",
       "    </tr>\n",
       "  </thead>\n",
       "  <tbody>\n",
       "    <tr>\n",
       "      <th>0</th>\n",
       "      <td>02/01/2015</td>\n",
       "      <td>US DOLLAR</td>\n",
       "      <td>90.7031</td>\n",
       "      <td>90.6239</td>\n",
       "      <td>90.7822</td>\n",
       "    </tr>\n",
       "    <tr>\n",
       "      <th>1</th>\n",
       "      <td>02/01/2015</td>\n",
       "      <td>STG POUND</td>\n",
       "      <td>140.9997</td>\n",
       "      <td>140.8611</td>\n",
       "      <td>141.1383</td>\n",
       "    </tr>\n",
       "    <tr>\n",
       "      <th>2</th>\n",
       "      <td>02/01/2015</td>\n",
       "      <td>EURO</td>\n",
       "      <td>109.3914</td>\n",
       "      <td>109.2844</td>\n",
       "      <td>109.4983</td>\n",
       "    </tr>\n",
       "    <tr>\n",
       "      <th>3</th>\n",
       "      <td>02/01/2015</td>\n",
       "      <td>SA RAND</td>\n",
       "      <td>7.8066</td>\n",
       "      <td>7.7973</td>\n",
       "      <td>7.8159</td>\n",
       "    </tr>\n",
       "    <tr>\n",
       "      <th>4</th>\n",
       "      <td>02/01/2015</td>\n",
       "      <td>KES / USHS</td>\n",
       "      <td>30.5944</td>\n",
       "      <td>30.5126</td>\n",
       "      <td>30.6762</td>\n",
       "    </tr>\n",
       "  </tbody>\n",
       "</table>\n",
       "</div>"
      ],
      "text/plain": [
       "         Date    Currency      Mean       Buy      Sell\n",
       "0  02/01/2015   US DOLLAR   90.7031   90.6239   90.7822\n",
       "1  02/01/2015   STG POUND  140.9997  140.8611  141.1383\n",
       "2  02/01/2015        EURO  109.3914  109.2844  109.4983\n",
       "3  02/01/2015     SA RAND    7.8066    7.7973    7.8159\n",
       "4  02/01/2015  KES / USHS   30.5944   30.5126   30.6762"
      ]
     },
     "execution_count": 2,
     "metadata": {},
     "output_type": "execute_result"
    }
   ],
   "source": [
    "cbk_df.head()"
   ]
  },
  {
   "cell_type": "code",
   "execution_count": 3,
   "metadata": {},
   "outputs": [
    {
     "data": {
      "text/plain": [
       "Date         object\n",
       "Currency     object\n",
       "Mean        float64\n",
       "Buy         float64\n",
       "Sell        float64\n",
       "dtype: object"
      ]
     },
     "execution_count": 3,
     "metadata": {},
     "output_type": "execute_result"
    }
   ],
   "source": [
    "# check column types\n",
    "cbk_df.dtypes\n"
   ]
  },
  {
   "cell_type": "code",
   "execution_count": 4,
   "metadata": {},
   "outputs": [
    {
     "data": {
      "text/plain": [
       "Date        datetime64[ns]\n",
       "Currency            object\n",
       "Mean               float64\n",
       "Buy                float64\n",
       "Sell               float64\n",
       "dtype: object"
      ]
     },
     "execution_count": 4,
     "metadata": {},
     "output_type": "execute_result"
    }
   ],
   "source": [
    "# Convert column Daate to datetime format\n",
    "cbk_df['Date'] = pd.to_datetime(cbk_df['Date'])\n",
    "cbk_df.dtypes"
   ]
  },
  {
   "cell_type": "code",
   "execution_count": 5,
   "metadata": {},
   "outputs": [
    {
     "data": {
      "text/plain": [
       "Timestamp('2015-01-04 00:00:00')"
      ]
     },
     "execution_count": 5,
     "metadata": {},
     "output_type": "execute_result"
    }
   ],
   "source": [
    "# get earliest date\n",
    "cbk_df['Date'].min()"
   ]
  },
  {
   "cell_type": "code",
   "execution_count": 6,
   "metadata": {},
   "outputs": [
    {
     "data": {
      "text/html": [
       "<div>\n",
       "<style scoped>\n",
       "    .dataframe tbody tr th:only-of-type {\n",
       "        vertical-align: middle;\n",
       "    }\n",
       "\n",
       "    .dataframe tbody tr th {\n",
       "        vertical-align: top;\n",
       "    }\n",
       "\n",
       "    .dataframe thead th {\n",
       "        text-align: right;\n",
       "    }\n",
       "</style>\n",
       "<table border=\"1\" class=\"dataframe\">\n",
       "  <thead>\n",
       "    <tr style=\"text-align: right;\">\n",
       "      <th></th>\n",
       "      <th>Date</th>\n",
       "      <th>Currency</th>\n",
       "      <th>Mean</th>\n",
       "      <th>Buy</th>\n",
       "      <th>Sell</th>\n",
       "    </tr>\n",
       "  </thead>\n",
       "  <tbody>\n",
       "    <tr>\n",
       "      <th>count</th>\n",
       "      <td>5860</td>\n",
       "      <td>5860</td>\n",
       "      <td>5860.000000</td>\n",
       "      <td>5860.000000</td>\n",
       "      <td>5860.000000</td>\n",
       "    </tr>\n",
       "    <tr>\n",
       "      <th>unique</th>\n",
       "      <td>254</td>\n",
       "      <td>21</td>\n",
       "      <td>NaN</td>\n",
       "      <td>NaN</td>\n",
       "      <td>NaN</td>\n",
       "    </tr>\n",
       "    <tr>\n",
       "      <th>top</th>\n",
       "      <td>2015-12-04 00:00:00</td>\n",
       "      <td>AUSTRALIAN $</td>\n",
       "      <td>NaN</td>\n",
       "      <td>NaN</td>\n",
       "      <td>NaN</td>\n",
       "    </tr>\n",
       "    <tr>\n",
       "      <th>freq</th>\n",
       "      <td>357</td>\n",
       "      <td>280</td>\n",
       "      <td>NaN</td>\n",
       "      <td>NaN</td>\n",
       "      <td>NaN</td>\n",
       "    </tr>\n",
       "    <tr>\n",
       "      <th>first</th>\n",
       "      <td>2015-01-04 00:00:00</td>\n",
       "      <td>NaN</td>\n",
       "      <td>NaN</td>\n",
       "      <td>NaN</td>\n",
       "      <td>NaN</td>\n",
       "    </tr>\n",
       "    <tr>\n",
       "      <th>last</th>\n",
       "      <td>2015-12-31 00:00:00</td>\n",
       "      <td>NaN</td>\n",
       "      <td>NaN</td>\n",
       "      <td>NaN</td>\n",
       "      <td>NaN</td>\n",
       "    </tr>\n",
       "    <tr>\n",
       "      <th>mean</th>\n",
       "      <td>NaN</td>\n",
       "      <td>NaN</td>\n",
       "      <td>46.206476</td>\n",
       "      <td>46.144874</td>\n",
       "      <td>46.268075</td>\n",
       "    </tr>\n",
       "    <tr>\n",
       "      <th>std</th>\n",
       "      <td>NaN</td>\n",
       "      <td>NaN</td>\n",
       "      <td>42.218772</td>\n",
       "      <td>42.183095</td>\n",
       "      <td>42.254481</td>\n",
       "    </tr>\n",
       "    <tr>\n",
       "      <th>min</th>\n",
       "      <td>NaN</td>\n",
       "      <td>NaN</td>\n",
       "      <td>1.431800</td>\n",
       "      <td>1.430200</td>\n",
       "      <td>1.433300</td>\n",
       "    </tr>\n",
       "    <tr>\n",
       "      <th>25%</th>\n",
       "      <td>NaN</td>\n",
       "      <td>NaN</td>\n",
       "      <td>12.680550</td>\n",
       "      <td>12.662325</td>\n",
       "      <td>12.693850</td>\n",
       "    </tr>\n",
       "    <tr>\n",
       "      <th>50%</th>\n",
       "      <td>NaN</td>\n",
       "      <td>NaN</td>\n",
       "      <td>25.089200</td>\n",
       "      <td>25.063550</td>\n",
       "      <td>25.114850</td>\n",
       "    </tr>\n",
       "    <tr>\n",
       "      <th>75%</th>\n",
       "      <td>NaN</td>\n",
       "      <td>NaN</td>\n",
       "      <td>77.510800</td>\n",
       "      <td>77.428175</td>\n",
       "      <td>77.593450</td>\n",
       "    </tr>\n",
       "    <tr>\n",
       "      <th>max</th>\n",
       "      <td>NaN</td>\n",
       "      <td>NaN</td>\n",
       "      <td>163.818600</td>\n",
       "      <td>163.661100</td>\n",
       "      <td>163.976100</td>\n",
       "    </tr>\n",
       "  </tbody>\n",
       "</table>\n",
       "</div>"
      ],
      "text/plain": [
       "                       Date      Currency         Mean          Buy  \\\n",
       "count                  5860          5860  5860.000000  5860.000000   \n",
       "unique                  254            21          NaN          NaN   \n",
       "top     2015-12-04 00:00:00  AUSTRALIAN $          NaN          NaN   \n",
       "freq                    357           280          NaN          NaN   \n",
       "first   2015-01-04 00:00:00           NaN          NaN          NaN   \n",
       "last    2015-12-31 00:00:00           NaN          NaN          NaN   \n",
       "mean                    NaN           NaN    46.206476    46.144874   \n",
       "std                     NaN           NaN    42.218772    42.183095   \n",
       "min                     NaN           NaN     1.431800     1.430200   \n",
       "25%                     NaN           NaN    12.680550    12.662325   \n",
       "50%                     NaN           NaN    25.089200    25.063550   \n",
       "75%                     NaN           NaN    77.510800    77.428175   \n",
       "max                     NaN           NaN   163.818600   163.661100   \n",
       "\n",
       "               Sell  \n",
       "count   5860.000000  \n",
       "unique          NaN  \n",
       "top             NaN  \n",
       "freq            NaN  \n",
       "first           NaN  \n",
       "last            NaN  \n",
       "mean      46.268075  \n",
       "std       42.254481  \n",
       "min        1.433300  \n",
       "25%       12.693850  \n",
       "50%       25.114850  \n",
       "75%       77.593450  \n",
       "max      163.976100  "
      ]
     },
     "execution_count": 6,
     "metadata": {},
     "output_type": "execute_result"
    }
   ],
   "source": [
    "cbk_df.describe(include='all')"
   ]
  },
  {
   "cell_type": "code",
   "execution_count": 7,
   "metadata": {},
   "outputs": [
    {
     "data": {
      "text/plain": [
       "array(['US DOLLAR', 'STG POUND', 'EURO', 'SA RAND', 'KES / USHS',\n",
       "       'KES / TSHS', 'KES / RWF', 'KES / BIF', 'AE DIRHAM', 'CAN $',\n",
       "       'S FRANC', 'JPY (100)', 'SW KRONER', 'NOR KRONER', 'DAN KRONER',\n",
       "       'IND RUPEE', 'HONGKONG DOLLAR', 'SINGAPORE DOLLAR', 'SAUDI RIYAL',\n",
       "       'CHINESE YUAN', 'AUSTRALIAN $'], dtype=object)"
      ]
     },
     "execution_count": 7,
     "metadata": {},
     "output_type": "execute_result"
    }
   ],
   "source": [
    "cbk_df['Currency'].unique()\n"
   ]
  },
  {
   "cell_type": "code",
   "execution_count": 8,
   "metadata": {},
   "outputs": [],
   "source": [
    "# Initial capital\n",
    "capital = 1000000"
   ]
  },
  {
   "cell_type": "code",
   "execution_count": 9,
   "metadata": {},
   "outputs": [
    {
     "data": {
      "text/html": [
       "<div>\n",
       "<style scoped>\n",
       "    .dataframe tbody tr th:only-of-type {\n",
       "        vertical-align: middle;\n",
       "    }\n",
       "\n",
       "    .dataframe tbody tr th {\n",
       "        vertical-align: top;\n",
       "    }\n",
       "\n",
       "    .dataframe thead th {\n",
       "        text-align: right;\n",
       "    }\n",
       "</style>\n",
       "<table border=\"1\" class=\"dataframe\">\n",
       "  <thead>\n",
       "    <tr style=\"text-align: right;\">\n",
       "      <th></th>\n",
       "      <th>Date</th>\n",
       "      <th>Currency</th>\n",
       "      <th>Mean</th>\n",
       "      <th>Buy</th>\n",
       "      <th>Sell</th>\n",
       "    </tr>\n",
       "  </thead>\n",
       "  <tbody>\n",
       "    <tr>\n",
       "      <th>671</th>\n",
       "      <td>2015-02-16</td>\n",
       "      <td>CHINESE YUAN</td>\n",
       "      <td>14.6542</td>\n",
       "      <td>14.6419</td>\n",
       "      <td>14.6665</td>\n",
       "    </tr>\n",
       "  </tbody>\n",
       "</table>\n",
       "</div>"
      ],
      "text/plain": [
       "          Date      Currency     Mean      Buy     Sell\n",
       "671 2015-02-16  CHINESE YUAN  14.6542  14.6419  14.6665"
      ]
     },
     "execution_count": 9,
     "metadata": {},
     "output_type": "execute_result"
    }
   ],
   "source": [
    "# get row for CHINESE YUAN on 16/02/2015\n",
    "cbk_df_buy=cbk_df[(cbk_df['Currency']=='CHINESE YUAN') & (cbk_df['Date']=='16/02/2015')]\n",
    "cbk_df_buy"
   ]
  },
  {
   "cell_type": "code",
   "execution_count": 10,
   "metadata": {},
   "outputs": [
    {
     "data": {
      "text/plain": [
       "671    14.6419\n",
       "Name: Buy, dtype: float64"
      ]
     },
     "execution_count": 10,
     "metadata": {},
     "output_type": "execute_result"
    }
   ],
   "source": [
    "# get cost of buying CHINESE YUAN on 16/02/2015\n",
    "cbk_df_b=cbk_df_buy['Buy']\n",
    "cbk_df_b"
   ]
  },
  {
   "cell_type": "code",
   "execution_count": 11,
   "metadata": {},
   "outputs": [
    {
     "data": {
      "text/html": [
       "<div>\n",
       "<style scoped>\n",
       "    .dataframe tbody tr th:only-of-type {\n",
       "        vertical-align: middle;\n",
       "    }\n",
       "\n",
       "    .dataframe tbody tr th {\n",
       "        vertical-align: top;\n",
       "    }\n",
       "\n",
       "    .dataframe thead th {\n",
       "        text-align: right;\n",
       "    }\n",
       "</style>\n",
       "<table border=\"1\" class=\"dataframe\">\n",
       "  <thead>\n",
       "    <tr style=\"text-align: right;\">\n",
       "      <th></th>\n",
       "      <th>Date</th>\n",
       "      <th>Currency</th>\n",
       "      <th>Mean</th>\n",
       "      <th>Buy</th>\n",
       "      <th>Sell</th>\n",
       "    </tr>\n",
       "  </thead>\n",
       "  <tbody>\n",
       "    <tr>\n",
       "      <th>4451</th>\n",
       "      <td>2015-09-25</td>\n",
       "      <td>CHINESE YUAN</td>\n",
       "      <td>16.5113</td>\n",
       "      <td>16.4929</td>\n",
       "      <td>16.5296</td>\n",
       "    </tr>\n",
       "  </tbody>\n",
       "</table>\n",
       "</div>"
      ],
      "text/plain": [
       "           Date      Currency     Mean      Buy     Sell\n",
       "4451 2015-09-25  CHINESE YUAN  16.5113  16.4929  16.5296"
      ]
     },
     "execution_count": 11,
     "metadata": {},
     "output_type": "execute_result"
    }
   ],
   "source": [
    "# get row for CHINESE YUAN on 25/09/2015\n",
    "cbk_df_sell=cbk_df[(cbk_df['Currency']=='CHINESE YUAN') & (cbk_df['Date']=='25/09/2015')]\n",
    "cbk_df_sell"
   ]
  },
  {
   "cell_type": "code",
   "execution_count": 12,
   "metadata": {},
   "outputs": [
    {
     "data": {
      "text/plain": [
       "4451    16.5296\n",
       "Name: Sell, dtype: float64"
      ]
     },
     "execution_count": 12,
     "metadata": {},
     "output_type": "execute_result"
    }
   ],
   "source": [
    "# get cost of selling CHINESE YUAN on 25/09/2015\n",
    "cbk_df_s=cbk_df_sell['Sell']\n",
    "cbk_df_s"
   ]
  },
  {
   "cell_type": "code",
   "execution_count": 13,
   "metadata": {},
   "outputs": [
    {
     "data": {
      "text/plain": [
       "71428.57142857143"
      ]
     },
     "execution_count": 13,
     "metadata": {},
     "output_type": "execute_result"
    }
   ],
   "source": [
    "# get value of capital in CHINESE YUAN after buying\n",
    "buy = capital/int(cbk_df_b)\n",
    "buy"
   ]
  },
  {
   "cell_type": "code",
   "execution_count": 14,
   "metadata": {},
   "outputs": [
    {
     "data": {
      "text/plain": [
       "1142857.142857143"
      ]
     },
     "execution_count": 14,
     "metadata": {},
     "output_type": "execute_result"
    }
   ],
   "source": [
    "# get value in Kenya shillings after sale \n",
    "sell = int(cbk_df_s) * buy\n",
    "sell"
   ]
  },
  {
   "cell_type": "code",
   "execution_count": 15,
   "metadata": {},
   "outputs": [
    {
     "data": {
      "text/plain": [
       "142857.14285714296"
      ]
     },
     "execution_count": 15,
     "metadata": {},
     "output_type": "execute_result"
    }
   ],
   "source": [
    "# calculate profit made\n",
    "profit = sell - capital\n",
    "profit"
   ]
  },
  {
   "cell_type": "code",
   "execution_count": 16,
   "metadata": {},
   "outputs": [
    {
     "data": {
      "text/plain": [
       "Text(0.5, 0, 'Date')"
      ]
     },
     "execution_count": 16,
     "metadata": {},
     "output_type": "execute_result"
    },
    {
     "data": {
      "image/png": "[encoded data removed]",
      "text/plain": [
       "<Figure size 432x288 with 1 Axes>"
      ]
     },
     "metadata": {
      "needs_background": "light"
     },
     "output_type": "display_data"
    }
   ],
   "source": [
    "# plot mean price of GBP\n",
    "plt.plot(gbp['Date'], gbp['Mean'])\n",
    "plt.title('Plot of GBP Mean price in 2015')\n",
    "plt.ylabel('Mean Price')\n",
    "plt.xlabel('Date')\n"
   ]
  },
  {
   "cell_type": "code",
   "execution_count": 17,
   "metadata": {},
   "outputs": [
    {
     "data": {
      "text/plain": [
       "Text(0, 0.5, 'Price')"
      ]
     },
     "execution_count": 17,
     "metadata": {},
     "output_type": "execute_result"
    },
    {
     "data": {
      "image/png": "[encoded data removed]",
      "text/plain": [
       "<Figure size 432x288 with 1 Axes>"
      ]
     },
     "metadata": {
      "needs_background": "light"
     },
     "output_type": "display_data"
    }
   ],
   "source": [
    "# plot mean price of GBP\n",
    "plt.plot(gbp['Date'], gbp['Mean'])\n",
    "plt.title('Plot of GBP Mean price in 2015')\n",
    "plt.xlabel('Mean')\n",
    "plt.xticks(rotation = 90)\n",
    "plt.ylabel('Price')\n"
   ]
  },
  {
   "cell_type": "code",
   "execution_count": 18,
   "metadata": {},
   "outputs": [
    {
     "data": {
      "text/plain": [
       "Text(0.5, 0, 'Mean')"
      ]
     },
     "execution_count": 18,
     "metadata": {},
     "output_type": "execute_result"
    },
    {
     "data": {
      "image/png": "[encoded data removed]",
      "text/plain": [
       "<Figure size 432x288 with 1 Axes>"
      ]
     },
     "metadata": {
      "needs_background": "light"
     },
     "output_type": "display_data"
    }
   ],
   "source": [
    "# plot mean price of GBP\n",
    "plt.plot(gbp['Date'], gbp['Mean'], linestyle = '--', marker = '+')\n",
    "plt.title('Plot of GBP Mean price in 2015')\n",
    "plt.ylabel('Price')\n",
    "plt.xlabel('Mean')"
   ]
  },
  {
   "cell_type": "code",
   "execution_count": 19,
   "metadata": {},
   "outputs": [
    {
     "data": {
      "text/html": [
       "<div>\n",
       "<style scoped>\n",
       "    .dataframe tbody tr th:only-of-type {\n",
       "        vertical-align: middle;\n",
       "    }\n",
       "\n",
       "    .dataframe tbody tr th {\n",
       "        vertical-align: top;\n",
       "    }\n",
       "\n",
       "    .dataframe thead th {\n",
       "        text-align: right;\n",
       "    }\n",
       "</style>\n",
       "<table border=\"1\" class=\"dataframe\">\n",
       "  <thead>\n",
       "    <tr style=\"text-align: right;\">\n",
       "      <th></th>\n",
       "      <th>Date</th>\n",
       "      <th>Currency</th>\n",
       "      <th>Mean</th>\n",
       "      <th>Buy</th>\n",
       "      <th>Sell</th>\n",
       "    </tr>\n",
       "  </thead>\n",
       "  <tbody>\n",
       "    <tr>\n",
       "      <th>5083</th>\n",
       "      <td>2015-10-11</td>\n",
       "      <td>US DOLLAR</td>\n",
       "      <td>102.2443</td>\n",
       "      <td>102.1444</td>\n",
       "      <td>102.3441</td>\n",
       "    </tr>\n",
       "    <tr>\n",
       "      <th>5084</th>\n",
       "      <td>2015-10-11</td>\n",
       "      <td>STG POUND</td>\n",
       "      <td>154.2539</td>\n",
       "      <td>154.0806</td>\n",
       "      <td>154.4272</td>\n",
       "    </tr>\n",
       "    <tr>\n",
       "      <th>5085</th>\n",
       "      <td>2015-10-11</td>\n",
       "      <td>EURO</td>\n",
       "      <td>109.8417</td>\n",
       "      <td>109.7172</td>\n",
       "      <td>109.9661</td>\n",
       "    </tr>\n",
       "    <tr>\n",
       "      <th>5086</th>\n",
       "      <td>2015-10-11</td>\n",
       "      <td>SA RAND</td>\n",
       "      <td>7.1357</td>\n",
       "      <td>7.1265</td>\n",
       "      <td>7.1448</td>\n",
       "    </tr>\n",
       "    <tr>\n",
       "      <th>5087</th>\n",
       "      <td>2015-10-11</td>\n",
       "      <td>KES / USHS</td>\n",
       "      <td>33.3027</td>\n",
       "      <td>33.2213</td>\n",
       "      <td>33.3841</td>\n",
       "    </tr>\n",
       "  </tbody>\n",
       "</table>\n",
       "</div>"
      ],
      "text/plain": [
       "           Date    Currency      Mean       Buy      Sell\n",
       "5083 2015-10-11   US DOLLAR  102.2443  102.1444  102.3441\n",
       "5084 2015-10-11   STG POUND  154.2539  154.0806  154.4272\n",
       "5085 2015-10-11        EURO  109.8417  109.7172  109.9661\n",
       "5086 2015-10-11     SA RAND    7.1357    7.1265    7.1448\n",
       "5087 2015-10-11  KES / USHS   33.3027   33.2213   33.3841"
      ]
     },
     "execution_count": 19,
     "metadata": {},
     "output_type": "execute_result"
    }
   ],
   "source": [
    "sample_df = cbk_df[cbk_df['Date']== '2015-10-11']\n",
    "sample_df = sample_df.iloc[:5,:]\n",
    "sample_df"
   ]
  },
  {
   "cell_type": "code",
   "execution_count": 20,
   "metadata": {},
   "outputs": [
    {
     "data": {
      "text/plain": [
       "Text(0.5, 0, 'Currency')"
      ]
     },
     "execution_count": 20,
     "metadata": {},
     "output_type": "execute_result"
    },
    {
     "data": {
      "image/png": "[encoded data removed]",
      "text/plain": [
       "<Figure size 432x288 with 1 Axes>"
      ]
     },
     "metadata": {
      "needs_background": "light"
     },
     "output_type": "display_data"
    }
   ],
   "source": [
    "plt.bar(x=sample_df['Currency'], height=sample_df['Mean'])\n",
    "plt.title('Mean Prices on 11th October')\n",
    "plt.ylabel('Price')\n",
    "plt.xlabel('Currency')"
   ]
  },
  {
   "cell_type": "code",
   "execution_count": 21,
   "metadata": {},
   "outputs": [
    {
     "data": {
      "text/html": [
       "<div>\n",
       "<style scoped>\n",
       "    .dataframe tbody tr th:only-of-type {\n",
       "        vertical-align: middle;\n",
       "    }\n",
       "\n",
       "    .dataframe tbody tr th {\n",
       "        vertical-align: top;\n",
       "    }\n",
       "\n",
       "    .dataframe thead th {\n",
       "        text-align: right;\n",
       "    }\n",
       "</style>\n",
       "<table border=\"1\" class=\"dataframe\">\n",
       "  <thead>\n",
       "    <tr style=\"text-align: right;\">\n",
       "      <th></th>\n",
       "      <th>Date</th>\n",
       "      <th>Currency</th>\n",
       "      <th>Mean</th>\n",
       "      <th>Buy</th>\n",
       "      <th>Sell</th>\n",
       "    </tr>\n",
       "  </thead>\n",
       "  <tbody>\n",
       "    <tr>\n",
       "      <th>5083</th>\n",
       "      <td>2015-10-11</td>\n",
       "      <td>US DOLLAR</td>\n",
       "      <td>102.2443</td>\n",
       "      <td>102.1444</td>\n",
       "      <td>102.3441</td>\n",
       "    </tr>\n",
       "    <tr>\n",
       "      <th>5084</th>\n",
       "      <td>2015-10-11</td>\n",
       "      <td>STG POUND</td>\n",
       "      <td>154.2539</td>\n",
       "      <td>154.0806</td>\n",
       "      <td>154.4272</td>\n",
       "    </tr>\n",
       "    <tr>\n",
       "      <th>5085</th>\n",
       "      <td>2015-10-11</td>\n",
       "      <td>EURO</td>\n",
       "      <td>109.8417</td>\n",
       "      <td>109.7172</td>\n",
       "      <td>109.9661</td>\n",
       "    </tr>\n",
       "    <tr>\n",
       "      <th>5086</th>\n",
       "      <td>2015-10-11</td>\n",
       "      <td>SA RAND</td>\n",
       "      <td>7.1357</td>\n",
       "      <td>7.1265</td>\n",
       "      <td>7.1448</td>\n",
       "    </tr>\n",
       "    <tr>\n",
       "      <th>5087</th>\n",
       "      <td>2015-10-11</td>\n",
       "      <td>KES / USHS</td>\n",
       "      <td>33.3027</td>\n",
       "      <td>33.2213</td>\n",
       "      <td>33.3841</td>\n",
       "    </tr>\n",
       "  </tbody>\n",
       "</table>\n",
       "</div>"
      ],
      "text/plain": [
       "           Date    Currency      Mean       Buy      Sell\n",
       "5083 2015-10-11   US DOLLAR  102.2443  102.1444  102.3441\n",
       "5084 2015-10-11   STG POUND  154.2539  154.0806  154.4272\n",
       "5085 2015-10-11        EURO  109.8417  109.7172  109.9661\n",
       "5086 2015-10-11     SA RAND    7.1357    7.1265    7.1448\n",
       "5087 2015-10-11  KES / USHS   33.3027   33.2213   33.3841"
      ]
     },
     "execution_count": 21,
     "metadata": {},
     "output_type": "execute_result"
    }
   ],
   "source": [
    "sample_df = cbk_df[cbk_df['Date'] == '2015-10-11'].iloc[:5,:]\n",
    "sample_df"
   ]
  },
  {
   "cell_type": "code",
   "execution_count": 22,
   "metadata": {},
   "outputs": [
    {
     "data": {
      "text/plain": [
       "5083      9790.061912\n",
       "5084      6490.109722\n",
       "5085      9114.341234\n",
       "5086    140321.335859\n",
       "5087     30101.170032\n",
       "Name: Buy, dtype: float64"
      ]
     },
     "execution_count": 22,
     "metadata": {},
     "output_type": "execute_result"
    }
   ],
   "source": [
    "capit = 1000000\n",
    "sample_df_buy = capit / sample_df['Buy']\n",
    "sample_df_buy"
   ]
  },
  {
   "cell_type": "code",
   "execution_count": 23,
   "metadata": {},
   "outputs": [
    {
     "data": {
      "text/plain": [
       "5083    1.001955e+06\n",
       "5084    1.002249e+06\n",
       "5085    1.002269e+06\n",
       "5086    1.002568e+06\n",
       "5087    1.004900e+06\n",
       "dtype: float64"
      ]
     },
     "execution_count": 23,
     "metadata": {},
     "output_type": "execute_result"
    }
   ],
   "source": [
    "sample_df_sell = sample_df_buy * sample_df['Sell']\n",
    "sample_df_sell"
   ]
  },
  {
   "cell_type": "code",
   "execution_count": 24,
   "metadata": {},
   "outputs": [
    {
     "data": {
      "text/plain": [
       "5083    1955.075364\n",
       "5084    2249.472030\n",
       "5085    2268.559533\n",
       "5086    2567.880446\n",
       "5087    4900.470481\n",
       "dtype: float64"
      ]
     },
     "execution_count": 24,
     "metadata": {},
     "output_type": "execute_result"
    }
   ],
   "source": [
    "profit = sample_df_sell - capit\n",
    "profit"
   ]
  },
  {
   "cell_type": "code",
   "execution_count": 25,
   "metadata": {},
   "outputs": [
    {
     "data": {
      "text/html": [
       "<div>\n",
       "<style scoped>\n",
       "    .dataframe tbody tr th:only-of-type {\n",
       "        vertical-align: middle;\n",
       "    }\n",
       "\n",
       "    .dataframe tbody tr th {\n",
       "        vertical-align: top;\n",
       "    }\n",
       "\n",
       "    .dataframe thead th {\n",
       "        text-align: right;\n",
       "    }\n",
       "</style>\n",
       "<table border=\"1\" class=\"dataframe\">\n",
       "  <thead>\n",
       "    <tr style=\"text-align: right;\">\n",
       "      <th></th>\n",
       "      <th>Date</th>\n",
       "      <th>Currency</th>\n",
       "      <th>Mean</th>\n",
       "      <th>Buy</th>\n",
       "      <th>Sell</th>\n",
       "      <th>Proportion</th>\n",
       "    </tr>\n",
       "  </thead>\n",
       "  <tbody>\n",
       "    <tr>\n",
       "      <th>5083</th>\n",
       "      <td>2015-10-11</td>\n",
       "      <td>US DOLLAR</td>\n",
       "      <td>102.2443</td>\n",
       "      <td>102.1444</td>\n",
       "      <td>102.3441</td>\n",
       "      <td>0.251295</td>\n",
       "    </tr>\n",
       "    <tr>\n",
       "      <th>5084</th>\n",
       "      <td>2015-10-11</td>\n",
       "      <td>STG POUND</td>\n",
       "      <td>154.2539</td>\n",
       "      <td>154.0806</td>\n",
       "      <td>154.4272</td>\n",
       "      <td>0.379180</td>\n",
       "    </tr>\n",
       "    <tr>\n",
       "      <th>5085</th>\n",
       "      <td>2015-10-11</td>\n",
       "      <td>EURO</td>\n",
       "      <td>109.8417</td>\n",
       "      <td>109.7172</td>\n",
       "      <td>109.9661</td>\n",
       "      <td>0.270010</td>\n",
       "    </tr>\n",
       "    <tr>\n",
       "      <th>5086</th>\n",
       "      <td>2015-10-11</td>\n",
       "      <td>SA RAND</td>\n",
       "      <td>7.1357</td>\n",
       "      <td>7.1265</td>\n",
       "      <td>7.1448</td>\n",
       "      <td>0.017543</td>\n",
       "    </tr>\n",
       "    <tr>\n",
       "      <th>5087</th>\n",
       "      <td>2015-10-11</td>\n",
       "      <td>KES / USHS</td>\n",
       "      <td>33.3027</td>\n",
       "      <td>33.2213</td>\n",
       "      <td>33.3841</td>\n",
       "      <td>0.081971</td>\n",
       "    </tr>\n",
       "  </tbody>\n",
       "</table>\n",
       "</div>"
      ],
      "text/plain": [
       "           Date    Currency      Mean       Buy      Sell  Proportion\n",
       "5083 2015-10-11   US DOLLAR  102.2443  102.1444  102.3441    0.251295\n",
       "5084 2015-10-11   STG POUND  154.2539  154.0806  154.4272    0.379180\n",
       "5085 2015-10-11        EURO  109.8417  109.7172  109.9661    0.270010\n",
       "5086 2015-10-11     SA RAND    7.1357    7.1265    7.1448    0.017543\n",
       "5087 2015-10-11  KES / USHS   33.3027   33.2213   33.3841    0.081971"
      ]
     },
     "execution_count": 25,
     "metadata": {},
     "output_type": "execute_result"
    }
   ],
   "source": [
    "sample_df['Proportion'] = sample_df['Sell'] / sum(sample_df['Sell'])\n",
    "sample_df"
   ]
  },
  {
   "cell_type": "code",
   "execution_count": 26,
   "metadata": {},
   "outputs": [
    {
     "data": {
      "image/png": "[encoded data removed]",
      "text/plain": [
       "<Figure size 432x288 with 1 Axes>"
      ]
     },
     "metadata": {},
     "output_type": "display_data"
    }
   ],
   "source": [
    "# Pie Chart\n",
    "labels = sample_df['Currency']\n",
    "sizes = sample_df['Proportion']\n",
    "colors = ['gold', 'yellowgreen', 'lightcoral', 'lightskyblue','blue']\n",
    "\n",
    "plt.pie(sizes, labels=labels, colors=colors,autopct='%1.1f%%', shadow=True, startangle=140)\n",
    "plt.title('Proportion of Currencies in the Sample')\n",
    "plt.axis('equal')\n",
    "plt.show()"
   ]
  },
  {
   "cell_type": "code",
   "execution_count": 27,
   "metadata": {},
   "outputs": [],
   "source": [
    "# GBP Histogram\n",
    "x = gbp['Mean']\n"
   ]
  },
  {
   "cell_type": "code",
   "execution_count": 28,
   "metadata": {},
   "outputs": [
    {
     "data": {
      "text/plain": [
       "Text(0.5, 0, 'Mean')"
      ]
     },
     "execution_count": 28,
     "metadata": {},
     "output_type": "execute_result"
    },
    {
     "data": {
      "image/png": "[encoded data removed]",
      "text/plain": [
       "<Figure size 432x288 with 1 Axes>"
      ]
     },
     "metadata": {
      "needs_background": "light"
     },
     "output_type": "display_data"
    }
   ],
   "source": [
    "plt.hist(x, bins = 17)\n",
    "plt.title('GBP Histogram')\n",
    "plt.ylabel('Frequency')\n",
    "plt.xlabel('Mean')"
   ]
  },
  {
   "cell_type": "code",
   "execution_count": 29,
   "metadata": {},
   "outputs": [
    {
     "data": {
      "text/plain": [
       "Text(0.5, 0, 'Mean')"
      ]
     },
     "execution_count": 29,
     "metadata": {},
     "output_type": "execute_result"
    },
    {
     "data": {
      "image/png": "[encoded data removed]",
      "text/plain": [
       "<Figure size 432x288 with 1 Axes>"
      ]
     },
     "metadata": {
      "needs_background": "light"
     },
     "output_type": "display_data"
    }
   ],
   "source": [
    "# histogram bins automatically calculated\n",
    "plt.hist(x)\n",
    "plt.title('GBP Histogram')\n",
    "plt.ylabel('Frequency')\n",
    "plt.xlabel('Mean')"
   ]
  },
  {
   "cell_type": "code",
   "execution_count": 30,
   "metadata": {},
   "outputs": [
    {
     "data": {
      "image/png": "[encoded data removed]",
      "text/plain": [
       "<Figure size 432x288 with 1 Axes>"
      ]
     },
     "metadata": {
      "needs_background": "light"
     },
     "output_type": "display_data"
    }
   ],
   "source": [
    "# scatter plot\n",
    "buy = gbp['Buy']\n",
    "sell = gbp['Sell']\n",
    "\n",
    "plt.scatter(buy, sell)\n",
    "plt.title('Scatter of GBPs buy and sell')\n",
    "plt.xlabel('buy')\n",
    "plt.ylabel('sell')\n",
    "plt.show()"
   ]
  },
  {
   "cell_type": "code",
   "execution_count": 31,
   "metadata": {},
   "outputs": [
    {
     "data": {
      "image/png": "[encoded data removed]",
      "text/plain": [
       "<Figure size 432x288 with 1 Axes>"
      ]
     },
     "metadata": {
      "needs_background": "light"
     },
     "output_type": "display_data"
    }
   ],
   "source": [
    "plt.scatter(sample_df['Buy'], sample_df['Sell'])\n",
    "plt.title('Buy and sellscatter plot of Sample')\n",
    "plt.xlabel('buy')\n",
    "plt.ylabel('sell')\n",
    "plt.show()"
   ]
  },
  {
   "cell_type": "code",
   "execution_count": 32,
   "metadata": {},
   "outputs": [
    {
     "data": {
      "text/html": [
       "<div>\n",
       "<style scoped>\n",
       "    .dataframe tbody tr th:only-of-type {\n",
       "        vertical-align: middle;\n",
       "    }\n",
       "\n",
       "    .dataframe tbody tr th {\n",
       "        vertical-align: top;\n",
       "    }\n",
       "\n",
       "    .dataframe thead th {\n",
       "        text-align: right;\n",
       "    }\n",
       "</style>\n",
       "<table border=\"1\" class=\"dataframe\">\n",
       "  <thead>\n",
       "    <tr style=\"text-align: right;\">\n",
       "      <th></th>\n",
       "      <th>Date</th>\n",
       "      <th>Currency</th>\n",
       "      <th>Mean</th>\n",
       "      <th>Buy</th>\n",
       "      <th>Sell</th>\n",
       "    </tr>\n",
       "  </thead>\n",
       "  <tbody>\n",
       "    <tr>\n",
       "      <th>273</th>\n",
       "      <td>2015-01-21</td>\n",
       "      <td>US DOLLAR</td>\n",
       "      <td>91.6342</td>\n",
       "      <td>91.5578</td>\n",
       "      <td>91.7106</td>\n",
       "    </tr>\n",
       "    <tr>\n",
       "      <th>274</th>\n",
       "      <td>2015-01-21</td>\n",
       "      <td>STG POUND</td>\n",
       "      <td>138.9467</td>\n",
       "      <td>138.8261</td>\n",
       "      <td>139.0672</td>\n",
       "    </tr>\n",
       "    <tr>\n",
       "      <th>275</th>\n",
       "      <td>2015-01-21</td>\n",
       "      <td>EURO</td>\n",
       "      <td>106.1136</td>\n",
       "      <td>106.0178</td>\n",
       "      <td>106.2094</td>\n",
       "    </tr>\n",
       "    <tr>\n",
       "      <th>284</th>\n",
       "      <td>2015-01-21</td>\n",
       "      <td>JPY (100)</td>\n",
       "      <td>77.7813</td>\n",
       "      <td>77.7099</td>\n",
       "      <td>77.8528</td>\n",
       "    </tr>\n",
       "    <tr>\n",
       "      <th>292</th>\n",
       "      <td>2015-01-21</td>\n",
       "      <td>CHINESE YUAN</td>\n",
       "      <td>14.7417</td>\n",
       "      <td>14.7284</td>\n",
       "      <td>14.7549</td>\n",
       "    </tr>\n",
       "  </tbody>\n",
       "</table>\n",
       "</div>"
      ],
      "text/plain": [
       "          Date      Currency      Mean       Buy      Sell\n",
       "273 2015-01-21     US DOLLAR   91.6342   91.5578   91.7106\n",
       "274 2015-01-21     STG POUND  138.9467  138.8261  139.0672\n",
       "275 2015-01-21          EURO  106.1136  106.0178  106.2094\n",
       "284 2015-01-21     JPY (100)   77.7813   77.7099   77.8528\n",
       "292 2015-01-21  CHINESE YUAN   14.7417   14.7284   14.7549"
      ]
     },
     "execution_count": 32,
     "metadata": {},
     "output_type": "execute_result"
    }
   ],
   "source": [
    "# get dataframe for US DCHINESE YUAN on 16/02/2015\n",
    "a_buy=cbk_df[((cbk_df['Currency']=='CHINESE YUAN') | (cbk_df['Currency']=='STG POUND') | (cbk_df['Currency']=='EURO') | (cbk_df['Currency']=='JPY (100)') | (cbk_df['Currency']=='US DOLLAR'))  & (cbk_df['Date']=='21/01/2015')]\n",
    "a_buy"
   ]
  },
  {
   "cell_type": "code",
   "execution_count": 33,
   "metadata": {},
   "outputs": [
    {
     "data": {
      "text/html": [
       "<div>\n",
       "<style scoped>\n",
       "    .dataframe tbody tr th:only-of-type {\n",
       "        vertical-align: middle;\n",
       "    }\n",
       "\n",
       "    .dataframe tbody tr th {\n",
       "        vertical-align: top;\n",
       "    }\n",
       "\n",
       "    .dataframe thead th {\n",
       "        text-align: right;\n",
       "    }\n",
       "</style>\n",
       "<table border=\"1\" class=\"dataframe\">\n",
       "  <thead>\n",
       "    <tr style=\"text-align: right;\">\n",
       "      <th></th>\n",
       "      <th>Date</th>\n",
       "      <th>Currency</th>\n",
       "      <th>Mean</th>\n",
       "      <th>Buy</th>\n",
       "      <th>Sell</th>\n",
       "    </tr>\n",
       "  </thead>\n",
       "  <tbody>\n",
       "    <tr>\n",
       "      <th>5272</th>\n",
       "      <td>2015-11-20</td>\n",
       "      <td>US DOLLAR</td>\n",
       "      <td>102.2011</td>\n",
       "      <td>102.1011</td>\n",
       "      <td>102.3012</td>\n",
       "    </tr>\n",
       "    <tr>\n",
       "      <th>5273</th>\n",
       "      <td>2015-11-20</td>\n",
       "      <td>STG POUND</td>\n",
       "      <td>156.1628</td>\n",
       "      <td>155.9889</td>\n",
       "      <td>156.3367</td>\n",
       "    </tr>\n",
       "    <tr>\n",
       "      <th>5274</th>\n",
       "      <td>2015-11-20</td>\n",
       "      <td>EURO</td>\n",
       "      <td>109.5069</td>\n",
       "      <td>109.3839</td>\n",
       "      <td>109.6300</td>\n",
       "    </tr>\n",
       "    <tr>\n",
       "      <th>5283</th>\n",
       "      <td>2015-11-20</td>\n",
       "      <td>JPY (100)</td>\n",
       "      <td>83.1817</td>\n",
       "      <td>83.0833</td>\n",
       "      <td>83.2800</td>\n",
       "    </tr>\n",
       "    <tr>\n",
       "      <th>5291</th>\n",
       "      <td>2015-11-20</td>\n",
       "      <td>CHINESE YUAN</td>\n",
       "      <td>16.0115</td>\n",
       "      <td>15.9945</td>\n",
       "      <td>16.0284</td>\n",
       "    </tr>\n",
       "  </tbody>\n",
       "</table>\n",
       "</div>"
      ],
      "text/plain": [
       "           Date      Currency      Mean       Buy      Sell\n",
       "5272 2015-11-20     US DOLLAR  102.2011  102.1011  102.3012\n",
       "5273 2015-11-20     STG POUND  156.1628  155.9889  156.3367\n",
       "5274 2015-11-20          EURO  109.5069  109.3839  109.6300\n",
       "5283 2015-11-20     JPY (100)   83.1817   83.0833   83.2800\n",
       "5291 2015-11-20  CHINESE YUAN   16.0115   15.9945   16.0284"
      ]
     },
     "execution_count": 33,
     "metadata": {},
     "output_type": "execute_result"
    }
   ],
   "source": [
    "# get dataframe for US DCHINESE YUAN on 16/02/2015\n",
    "a_sell=cbk_df[((cbk_df['Currency']=='CHINESE YUAN') | (cbk_df['Currency']=='STG POUND') | (cbk_df['Currency']=='EURO') | (cbk_df['Currency']=='JPY (100)') | (cbk_df['Currency']=='US DOLLAR'))  & (cbk_df['Date']=='20/11/2015')]\n",
    "a_sell"
   ]
  },
  {
   "cell_type": "code",
   "execution_count": 34,
   "metadata": {},
   "outputs": [
    {
     "name": "stderr",
     "output_type": "stream",
     "text": [
      "C:\\ProgramData\\Anaconda3\\lib\\site-packages\\ipykernel_launcher.py:1: SettingWithCopyWarning: \n",
      "A value is trying to be set on a copy of a slice from a DataFrame.\n",
      "Try using .loc[row_indexer,col_indexer] = value instead\n",
      "\n",
      "See the caveats in the documentation: http://pandas.pydata.org/pandas-docs/stable/indexing.html#indexing-view-versus-copy\n",
      "  \"\"\"Entry point for launching an IPython kernel.\n"
     ]
    }
   ],
   "source": [
    "a_sell['Proportions'] = a_sell['Sell'] / a_sell['Sell'].sum()"
   ]
  },
  {
   "cell_type": "code",
   "execution_count": 35,
   "metadata": {},
   "outputs": [
    {
     "data": {
      "text/plain": [
       "273     91.5578\n",
       "274    138.8261\n",
       "275    106.0178\n",
       "284     77.7099\n",
       "292     14.7284\n",
       "Name: Buy, dtype: float64"
      ]
     },
     "execution_count": 35,
     "metadata": {},
     "output_type": "execute_result"
    }
   ],
   "source": [
    "bought = a_buy['Buy']\n",
    "bought"
   ]
  },
  {
   "cell_type": "code",
   "execution_count": 36,
   "metadata": {},
   "outputs": [
    {
     "data": {
      "text/plain": [
       "5272    102.3012\n",
       "5273    156.3367\n",
       "5274    109.6300\n",
       "5283     83.2800\n",
       "5291     16.0284\n",
       "Name: Sell, dtype: float64"
      ]
     },
     "execution_count": 36,
     "metadata": {},
     "output_type": "execute_result"
    }
   ],
   "source": [
    "sold = a_sell['Sell']\n",
    "sold"
   ]
  },
  {
   "cell_type": "code",
   "execution_count": 37,
   "metadata": {},
   "outputs": [
    {
     "data": {
      "text/html": [
       "<div>\n",
       "<style scoped>\n",
       "    .dataframe tbody tr th:only-of-type {\n",
       "        vertical-align: middle;\n",
       "    }\n",
       "\n",
       "    .dataframe tbody tr th {\n",
       "        vertical-align: top;\n",
       "    }\n",
       "\n",
       "    .dataframe thead th {\n",
       "        text-align: right;\n",
       "    }\n",
       "</style>\n",
       "<table border=\"1\" class=\"dataframe\">\n",
       "  <thead>\n",
       "    <tr style=\"text-align: right;\">\n",
       "      <th></th>\n",
       "      <th>0</th>\n",
       "    </tr>\n",
       "  </thead>\n",
       "  <tbody>\n",
       "    <tr>\n",
       "      <th>0</th>\n",
       "      <td>10.7434</td>\n",
       "    </tr>\n",
       "    <tr>\n",
       "      <th>1</th>\n",
       "      <td>17.5106</td>\n",
       "    </tr>\n",
       "    <tr>\n",
       "      <th>2</th>\n",
       "      <td>3.6122</td>\n",
       "    </tr>\n",
       "    <tr>\n",
       "      <th>3</th>\n",
       "      <td>5.5701</td>\n",
       "    </tr>\n",
       "    <tr>\n",
       "      <th>4</th>\n",
       "      <td>1.3000</td>\n",
       "    </tr>\n",
       "  </tbody>\n",
       "</table>\n",
       "</div>"
      ],
      "text/plain": [
       "         0\n",
       "0  10.7434\n",
       "1  17.5106\n",
       "2   3.6122\n",
       "3   5.5701\n",
       "4   1.3000"
      ]
     },
     "execution_count": 37,
     "metadata": {},
     "output_type": "execute_result"
    }
   ],
   "source": [
    "bought_nump = np.array(bought)\n",
    "sold_nump = np.array(sold)\n",
    "profit = sold_nump - bought_nump\n",
    "profit_pd = pd.DataFrame(profit)\n",
    "profit_pd"
   ]
  },
  {
   "cell_type": "code",
   "execution_count": 38,
   "metadata": {},
   "outputs": [
    {
     "data": {
      "text/plain": [
       "0    17.5106\n",
       "dtype: float64"
      ]
     },
     "execution_count": 38,
     "metadata": {},
     "output_type": "execute_result"
    }
   ],
   "source": [
    "profit_pd.max()"
   ]
  },
  {
   "cell_type": "code",
   "execution_count": 39,
   "metadata": {},
   "outputs": [
    {
     "data": {
      "text/plain": [
       "0    1.3\n",
       "dtype: float64"
      ]
     },
     "execution_count": 39,
     "metadata": {},
     "output_type": "execute_result"
    }
   ],
   "source": [
    "profit_pd.min()"
   ]
  },
  {
   "cell_type": "code",
   "execution_count": 40,
   "metadata": {},
   "outputs": [
    {
     "data": {
      "text/plain": [
       "Text(0.5, 0, 'Currency')"
      ]
     },
     "execution_count": 40,
     "metadata": {},
     "output_type": "execute_result"
    },
    {
     "data": {
      "image/png": "[encoded data removed]",
      "text/plain": [
       "<Figure size 432x288 with 1 Axes>"
      ]
     },
     "metadata": {
      "needs_background": "light"
     },
     "output_type": "display_data"
    }
   ],
   "source": [
    "plt.bar(x=a_buy['Currency'], height=profit_pd[0])\n",
    "plt.title('Profits in each currency')\n",
    "plt.ylabel('Profits')\n",
    "plt.xlabel('Currency')"
   ]
  },
  {
   "cell_type": "code",
   "execution_count": 41,
   "metadata": {},
   "outputs": [],
   "source": [
    "def get_buy_price(Date, Currency):\n",
    "    buy_df = cbk_df[(cbk_df['Currency'] == Currency) & (cbk_df['Date'] == Date)]\n",
    "    return int(buy_df['Buy'])"
   ]
  },
  {
   "cell_type": "code",
   "execution_count": 42,
   "metadata": {},
   "outputs": [],
   "source": [
    "currencies = ['US DOLLAR','STG POUND','CHINESE YUAN','JPY (100)','EURO']\n",
    "profit_loss_df = pd.DataFrame()"
   ]
  },
  {
   "cell_type": "code",
   "execution_count": 43,
   "metadata": {},
   "outputs": [
    {
     "data": {
      "text/html": [
       "<div>\n",
       "<style scoped>\n",
       "    .dataframe tbody tr th:only-of-type {\n",
       "        vertical-align: middle;\n",
       "    }\n",
       "\n",
       "    .dataframe tbody tr th {\n",
       "        vertical-align: top;\n",
       "    }\n",
       "\n",
       "    .dataframe thead th {\n",
       "        text-align: right;\n",
       "    }\n",
       "</style>\n",
       "<table border=\"1\" class=\"dataframe\">\n",
       "  <thead>\n",
       "    <tr style=\"text-align: right;\">\n",
       "      <th></th>\n",
       "      <th>US DOLLAR</th>\n",
       "      <th>STG POUND</th>\n",
       "      <th>CHINESE YUAN</th>\n",
       "      <th>JPY (100)</th>\n",
       "      <th>EURO</th>\n",
       "    </tr>\n",
       "  </thead>\n",
       "  <tbody>\n",
       "    <tr>\n",
       "      <th>0</th>\n",
       "      <td>-0.2178</td>\n",
       "      <td>3.1383</td>\n",
       "      <td>0.6314</td>\n",
       "      <td>-1.5682</td>\n",
       "      <td>3.4983</td>\n",
       "    </tr>\n",
       "    <tr>\n",
       "      <th>1</th>\n",
       "      <td>-0.1167</td>\n",
       "      <td>0.8983</td>\n",
       "      <td>0.6164</td>\n",
       "      <td>-1.5280</td>\n",
       "      <td>2.5172</td>\n",
       "    </tr>\n",
       "    <tr>\n",
       "      <th>2</th>\n",
       "      <td>-0.0972</td>\n",
       "      <td>0.7428</td>\n",
       "      <td>0.6308</td>\n",
       "      <td>-0.5726</td>\n",
       "      <td>2.6850</td>\n",
       "    </tr>\n",
       "    <tr>\n",
       "      <th>3</th>\n",
       "      <td>0.0006</td>\n",
       "      <td>-0.2222</td>\n",
       "      <td>0.6562</td>\n",
       "      <td>-0.4195</td>\n",
       "      <td>2.1039</td>\n",
       "    </tr>\n",
       "    <tr>\n",
       "      <th>4</th>\n",
       "      <td>0.1806</td>\n",
       "      <td>-0.4039</td>\n",
       "      <td>0.6640</td>\n",
       "      <td>-0.8194</td>\n",
       "      <td>1.8167</td>\n",
       "    </tr>\n",
       "  </tbody>\n",
       "</table>\n",
       "</div>"
      ],
      "text/plain": [
       "   US DOLLAR  STG POUND  CHINESE YUAN  JPY (100)    EURO\n",
       "0    -0.2178     3.1383        0.6314    -1.5682  3.4983\n",
       "1    -0.1167     0.8983        0.6164    -1.5280  2.5172\n",
       "2    -0.0972     0.7428        0.6308    -0.5726  2.6850\n",
       "3     0.0006    -0.2222        0.6562    -0.4195  2.1039\n",
       "4     0.1806    -0.4039        0.6640    -0.8194  1.8167"
      ]
     },
     "execution_count": 43,
     "metadata": {},
     "output_type": "execute_result"
    }
   ],
   "source": [
    "for currency in currencies:\n",
    "    buy = get_buy_price('21/01/2015', currency)\n",
    "    currency_df = cbk_df[(cbk_df['Currency'] == currency) & (cbk_df['Date'] >= '21/01/2015') & (cbk_df['Date'] <= '20/11/2015')].set_index('Date')\n",
    "    profit_loss_df[currency] = list(currency_df['Sell'] - buy)\n",
    "    \n",
    "profit_loss_df.head()"
   ]
  },
  {
   "cell_type": "code",
   "execution_count": 45,
   "metadata": {},
   "outputs": [
    {
     "ename": "KeyError",
     "evalue": "'Date'",
     "output_type": "error",
     "traceback": [
      "\u001b[1;31m---------------------------------------------------------------------------\u001b[0m",
      "\u001b[1;31mKeyError\u001b[0m                                  Traceback (most recent call last)",
      "\u001b[1;32mC:\\ProgramData\\Anaconda3\\lib\\site-packages\\pandas\\core\\indexes\\base.py\u001b[0m in \u001b[0;36mget_loc\u001b[1;34m(self, key, method, tolerance)\u001b[0m\n\u001b[0;32m   2656\u001b[0m             \u001b[1;32mtry\u001b[0m\u001b[1;33m:\u001b[0m\u001b[1;33m\u001b[0m\u001b[1;33m\u001b[0m\u001b[0m\n\u001b[1;32m-> 2657\u001b[1;33m                 \u001b[1;32mreturn\u001b[0m \u001b[0mself\u001b[0m\u001b[1;33m.\u001b[0m\u001b[0m_engine\u001b[0m\u001b[1;33m.\u001b[0m\u001b[0mget_loc\u001b[0m\u001b[1;33m(\u001b[0m\u001b[0mkey\u001b[0m\u001b[1;33m)\u001b[0m\u001b[1;33m\u001b[0m\u001b[1;33m\u001b[0m\u001b[0m\n\u001b[0m\u001b[0;32m   2658\u001b[0m             \u001b[1;32mexcept\u001b[0m \u001b[0mKeyError\u001b[0m\u001b[1;33m:\u001b[0m\u001b[1;33m\u001b[0m\u001b[1;33m\u001b[0m\u001b[0m\n",
      "\u001b[1;32mpandas/_libs/index.pyx\u001b[0m in \u001b[0;36mpandas._libs.index.IndexEngine.get_loc\u001b[1;34m()\u001b[0m\n",
      "\u001b[1;32mpandas/_libs/index.pyx\u001b[0m in \u001b[0;36mpandas._libs.index.IndexEngine.get_loc\u001b[1;34m()\u001b[0m\n",
      "\u001b[1;32mpandas/_libs/hashtable_class_helper.pxi\u001b[0m in \u001b[0;36mpandas._libs.hashtable.PyObjectHashTable.get_item\u001b[1;34m()\u001b[0m\n",
      "\u001b[1;32mpandas/_libs/hashtable_class_helper.pxi\u001b[0m in \u001b[0;36mpandas._libs.hashtable.PyObjectHashTable.get_item\u001b[1;34m()\u001b[0m\n",
      "\u001b[1;31mKeyError\u001b[0m: 'Date'",
      "\nDuring handling of the above exception, another exception occurred:\n",
      "\u001b[1;31mKeyError\u001b[0m                                  Traceback (most recent call last)",
      "\u001b[1;32m<ipython-input-45-9b8878b2e29e>\u001b[0m in \u001b[0;36m<module>\u001b[1;34m\u001b[0m\n\u001b[0;32m      1\u001b[0m \u001b[1;32mfor\u001b[0m \u001b[0mcurrency\u001b[0m \u001b[1;32min\u001b[0m \u001b[0mcurrencies\u001b[0m\u001b[1;33m:\u001b[0m\u001b[1;33m\u001b[0m\u001b[1;33m\u001b[0m\u001b[0m\n\u001b[1;32m----> 2\u001b[1;33m     \u001b[0mplt\u001b[0m\u001b[1;33m.\u001b[0m\u001b[0mplot\u001b[0m\u001b[1;33m(\u001b[0m\u001b[0mcurrency_df\u001b[0m\u001b[1;33m[\u001b[0m\u001b[1;34m'Date'\u001b[0m\u001b[1;33m]\u001b[0m\u001b[1;33m.\u001b[0m\u001b[0msort_values\u001b[0m\u001b[1;33m(\u001b[0m\u001b[1;33m)\u001b[0m\u001b[1;33m,\u001b[0m \u001b[0mprofit_loss_df\u001b[0m\u001b[1;33m[\u001b[0m\u001b[0mcurrency\u001b[0m\u001b[1;33m]\u001b[0m\u001b[1;33m)\u001b[0m\u001b[1;33m\u001b[0m\u001b[1;33m\u001b[0m\u001b[0m\n\u001b[0m\u001b[0;32m      3\u001b[0m \u001b[1;33m\u001b[0m\u001b[0m\n\u001b[0;32m      4\u001b[0m \u001b[0mplt\u001b[0m\u001b[1;33m.\u001b[0m\u001b[0mtitle\u001b[0m\u001b[1;33m(\u001b[0m\u001b[1;34m'Profit and Loss of each currency'\u001b[0m\u001b[1;33m)\u001b[0m\u001b[1;33m\u001b[0m\u001b[1;33m\u001b[0m\u001b[0m\n\u001b[0;32m      5\u001b[0m \u001b[0mplt\u001b[0m\u001b[1;33m.\u001b[0m\u001b[0mxlabel\u001b[0m\u001b[1;33m(\u001b[0m\u001b[1;34m'Date'\u001b[0m\u001b[1;33m)\u001b[0m\u001b[1;33m\u001b[0m\u001b[1;33m\u001b[0m\u001b[0m\n",
      "\u001b[1;32mC:\\ProgramData\\Anaconda3\\lib\\site-packages\\pandas\\core\\frame.py\u001b[0m in \u001b[0;36m__getitem__\u001b[1;34m(self, key)\u001b[0m\n\u001b[0;32m   2925\u001b[0m             \u001b[1;32mif\u001b[0m \u001b[0mself\u001b[0m\u001b[1;33m.\u001b[0m\u001b[0mcolumns\u001b[0m\u001b[1;33m.\u001b[0m\u001b[0mnlevels\u001b[0m \u001b[1;33m>\u001b[0m \u001b[1;36m1\u001b[0m\u001b[1;33m:\u001b[0m\u001b[1;33m\u001b[0m\u001b[1;33m\u001b[0m\u001b[0m\n\u001b[0;32m   2926\u001b[0m                 \u001b[1;32mreturn\u001b[0m \u001b[0mself\u001b[0m\u001b[1;33m.\u001b[0m\u001b[0m_getitem_multilevel\u001b[0m\u001b[1;33m(\u001b[0m\u001b[0mkey\u001b[0m\u001b[1;33m)\u001b[0m\u001b[1;33m\u001b[0m\u001b[1;33m\u001b[0m\u001b[0m\n\u001b[1;32m-> 2927\u001b[1;33m             \u001b[0mindexer\u001b[0m \u001b[1;33m=\u001b[0m \u001b[0mself\u001b[0m\u001b[1;33m.\u001b[0m\u001b[0mcolumns\u001b[0m\u001b[1;33m.\u001b[0m\u001b[0mget_loc\u001b[0m\u001b[1;33m(\u001b[0m\u001b[0mkey\u001b[0m\u001b[1;33m)\u001b[0m\u001b[1;33m\u001b[0m\u001b[1;33m\u001b[0m\u001b[0m\n\u001b[0m\u001b[0;32m   2928\u001b[0m             \u001b[1;32mif\u001b[0m \u001b[0mis_integer\u001b[0m\u001b[1;33m(\u001b[0m\u001b[0mindexer\u001b[0m\u001b[1;33m)\u001b[0m\u001b[1;33m:\u001b[0m\u001b[1;33m\u001b[0m\u001b[1;33m\u001b[0m\u001b[0m\n\u001b[0;32m   2929\u001b[0m                 \u001b[0mindexer\u001b[0m \u001b[1;33m=\u001b[0m \u001b[1;33m[\u001b[0m\u001b[0mindexer\u001b[0m\u001b[1;33m]\u001b[0m\u001b[1;33m\u001b[0m\u001b[1;33m\u001b[0m\u001b[0m\n",
      "\u001b[1;32mC:\\ProgramData\\Anaconda3\\lib\\site-packages\\pandas\\core\\indexes\\base.py\u001b[0m in \u001b[0;36mget_loc\u001b[1;34m(self, key, method, tolerance)\u001b[0m\n\u001b[0;32m   2657\u001b[0m                 \u001b[1;32mreturn\u001b[0m \u001b[0mself\u001b[0m\u001b[1;33m.\u001b[0m\u001b[0m_engine\u001b[0m\u001b[1;33m.\u001b[0m\u001b[0mget_loc\u001b[0m\u001b[1;33m(\u001b[0m\u001b[0mkey\u001b[0m\u001b[1;33m)\u001b[0m\u001b[1;33m\u001b[0m\u001b[1;33m\u001b[0m\u001b[0m\n\u001b[0;32m   2658\u001b[0m             \u001b[1;32mexcept\u001b[0m \u001b[0mKeyError\u001b[0m\u001b[1;33m:\u001b[0m\u001b[1;33m\u001b[0m\u001b[1;33m\u001b[0m\u001b[0m\n\u001b[1;32m-> 2659\u001b[1;33m                 \u001b[1;32mreturn\u001b[0m \u001b[0mself\u001b[0m\u001b[1;33m.\u001b[0m\u001b[0m_engine\u001b[0m\u001b[1;33m.\u001b[0m\u001b[0mget_loc\u001b[0m\u001b[1;33m(\u001b[0m\u001b[0mself\u001b[0m\u001b[1;33m.\u001b[0m\u001b[0m_maybe_cast_indexer\u001b[0m\u001b[1;33m(\u001b[0m\u001b[0mkey\u001b[0m\u001b[1;33m)\u001b[0m\u001b[1;33m)\u001b[0m\u001b[1;33m\u001b[0m\u001b[1;33m\u001b[0m\u001b[0m\n\u001b[0m\u001b[0;32m   2660\u001b[0m         \u001b[0mindexer\u001b[0m \u001b[1;33m=\u001b[0m \u001b[0mself\u001b[0m\u001b[1;33m.\u001b[0m\u001b[0mget_indexer\u001b[0m\u001b[1;33m(\u001b[0m\u001b[1;33m[\u001b[0m\u001b[0mkey\u001b[0m\u001b[1;33m]\u001b[0m\u001b[1;33m,\u001b[0m \u001b[0mmethod\u001b[0m\u001b[1;33m=\u001b[0m\u001b[0mmethod\u001b[0m\u001b[1;33m,\u001b[0m \u001b[0mtolerance\u001b[0m\u001b[1;33m=\u001b[0m\u001b[0mtolerance\u001b[0m\u001b[1;33m)\u001b[0m\u001b[1;33m\u001b[0m\u001b[1;33m\u001b[0m\u001b[0m\n\u001b[0;32m   2661\u001b[0m         \u001b[1;32mif\u001b[0m \u001b[0mindexer\u001b[0m\u001b[1;33m.\u001b[0m\u001b[0mndim\u001b[0m \u001b[1;33m>\u001b[0m \u001b[1;36m1\u001b[0m \u001b[1;32mor\u001b[0m \u001b[0mindexer\u001b[0m\u001b[1;33m.\u001b[0m\u001b[0msize\u001b[0m \u001b[1;33m>\u001b[0m \u001b[1;36m1\u001b[0m\u001b[1;33m:\u001b[0m\u001b[1;33m\u001b[0m\u001b[1;33m\u001b[0m\u001b[0m\n",
      "\u001b[1;32mpandas/_libs/index.pyx\u001b[0m in \u001b[0;36mpandas._libs.index.IndexEngine.get_loc\u001b[1;34m()\u001b[0m\n",
      "\u001b[1;32mpandas/_libs/index.pyx\u001b[0m in \u001b[0;36mpandas._libs.index.IndexEngine.get_loc\u001b[1;34m()\u001b[0m\n",
      "\u001b[1;32mpandas/_libs/hashtable_class_helper.pxi\u001b[0m in \u001b[0;36mpandas._libs.hashtable.PyObjectHashTable.get_item\u001b[1;34m()\u001b[0m\n",
      "\u001b[1;32mpandas/_libs/hashtable_class_helper.pxi\u001b[0m in \u001b[0;36mpandas._libs.hashtable.PyObjectHashTable.get_item\u001b[1;34m()\u001b[0m\n",
      "\u001b[1;31mKeyError\u001b[0m: 'Date'"
     ]
    }
   ],
   "source": [
    "for currency in currencies:\n",
    "    plt.plot(currency_df['Date'].sort_values(), profit_loss_df[currency])\n",
    "        \n",
    "plt.title('Profit and Loss of each currency')\n",
    "plt.xlabel('Date')\n",
    "plt.xticks(rotation = 90)\n",
    "plt.ylabel('Profit/Loss')\n",
    "plt.legend(currencies, bbox_to_anchor=(1, 0.5))"
   ]
  },
  {
   "cell_type": "code",
   "execution_count": null,
   "metadata": {},
   "outputs": [],
   "source": [
    "profit_loss_df.corr()"
   ]
  },
  {
   "cell_type": "code",
   "execution_count": null,
   "metadata": {},
   "outputs": [],
   "source": [
    "sns.heatmap(profit_loss_df.corr())\n",
    "plt.show()"
   ]
  },
  {
   "cell_type": "code",
   "execution_count": null,
   "metadata": {},
   "outputs": [],
   "source": [
    "x = currency_df['Date'].sort_values()\n",
    "  \n",
    "fig, ax = plt.subplots(len(currencies)-2, len(currencies)-3)\n",
    "# for currency in currencies:\n",
    "#     for row in ax:\n",
    "#         for col in row:\n",
    "#             col.plot(x, profit_loss_df[currency])\n",
    "ax[0, 0].plot(x, profit_loss_df['US DOLLAR'], 'r') #row=0, col=0\n",
    "ax[1, 0].plot(x, profit_loss_df['STG POUND'], 'b') #row=1, col=0\n",
    "ax[0, 1].plot(x, profit_loss_df['CHINESE YUAN'], 'g') #row=0, col=1\n",
    "ax[1, 1].plot(x, profit_loss_df['JPY (100)'], 'y')\n",
    "ax[2, 0].plot(x, profit_loss_df['EURO'], 'k')\n",
    "\n",
    "plt.show()"
   ]
  },
  {
   "cell_type": "code",
   "execution_count": null,
   "metadata": {},
   "outputs": [],
   "source": [
    "def get_data(currency, action):\n",
    "    data_df = cbk_df[cbk_df['Currency'] == currency].set_index('Date')[action]\n",
    "    return data_df.sort_index()"
   ]
  },
  {
   "cell_type": "code",
   "execution_count": null,
   "metadata": {},
   "outputs": [],
   "source": [
    "plt.subplot(321) # rows columns position\n",
    "plt.plot(get_data(currencies[0], 'Sell'))\n",
    "plt.ylabel('Price')\n",
    "plt.xlabel('Date')\n",
    "plt.xticks(rotation = 90)\n",
    "plt.title('Multiple subplots')\n",
    "plt.show()"
   ]
  },
  {
   "cell_type": "code",
   "execution_count": null,
   "metadata": {},
   "outputs": [],
   "source": [
    "for n, item in enumerate(currencies):\n",
    "    print(n, item)"
   ]
  },
  {
   "cell_type": "code",
   "execution_count": null,
   "metadata": {},
   "outputs": [],
   "source": [
    "for n, item in enumerate(currencies):\n",
    "    print(n+1, item)"
   ]
  },
  {
   "cell_type": "code",
   "execution_count": null,
   "metadata": {},
   "outputs": [],
   "source": [
    "for n, item in enumerate(currencies):\n",
    "    n=n+321\n",
    "    plt.subplot(n) # rows columns position\n",
    "    plt.plot(get_data(item, 'Sell'))\n",
    "    plt.ylabel('Price')\n",
    "    plt.xlabel('Date')\n",
    "    #plt.xticks(rotation = 90)\n",
    "    plt.title(item)\n",
    "plt.show()"
   ]
  },
  {
   "cell_type": "code",
   "execution_count": null,
   "metadata": {},
   "outputs": [],
   "source": []
  },
  {
   "cell_type": "code",
   "execution_count": null,
   "metadata": {},
   "outputs": [],
   "source": []
  }
 ],
 "metadata": {
  "kernelspec": {
   "display_name": "Python 3",
   "language": "python",
   "name": "python3"
  },
  "language_info": {
   "codemirror_mode": {
    "name": "ipython",
    "version": 3
   },
   "file_extension": ".py",
   "mimetype": "text/x-python",
   "name": "python",
   "nbconvert_exporter": "python",
   "pygments_lexer": "ipython3",
   "version": "3.7.3"
  }
 },
 "nbformat": 4,
 "nbformat_minor": 2
}
